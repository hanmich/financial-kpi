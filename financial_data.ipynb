{
 "cells": [
  {
   "cell_type": "code",
   "execution_count": 1,
   "id": "292163b9",
   "metadata": {},
   "outputs": [],
   "source": [
    "import yfinance as yf\n",
    "\n",
    "apple = yf.Ticker(\"AAPL\")\n",
    "msft = yf.Ticker(\"MSFT\")"
   ]
  },
  {
   "cell_type": "code",
   "execution_count": 2,
   "id": "2a77c359",
   "metadata": {},
   "outputs": [],
   "source": [
    "# Income statements\n",
    "apple_financials = apple.financials\n",
    "msft_financials = msft.financials"
   ]
  },
  {
   "cell_type": "code",
   "execution_count": 3,
   "id": "bd1cdb63",
   "metadata": {},
   "outputs": [],
   "source": [
    "# Balance sheets\n",
    "apple_balance = apple.balance_sheet\n",
    "msft_balance = msft.balance_sheet"
   ]
  },
  {
   "cell_type": "code",
   "execution_count": null,
   "id": "bd59425f",
   "metadata": {},
   "outputs": [],
   "source": [
    "# Cash flow\n",
    "apple_cashflow = apple.cashflow\n",
    "msft_cashflow = msft.cashflow\n"
   ]
  },
  {
   "cell_type": "code",
   "execution_count": 49,
   "id": "f965a2ea",
   "metadata": {},
   "outputs": [],
   "source": [
    "apple_is = apple_financials.T\n",
    "msft_is = msft_financials.T\n",
    "\n",
    "apple_bs = apple_balance.T\n",
    "msft_bs = msft_balance.T\n",
    "\n",
    "apple_cf = apple_cashflow.T\n",
    "msft_cf= msft_cashflow.T"
   ]
  },
  {
   "cell_type": "code",
   "execution_count": 50,
   "id": "0d962c6c",
   "metadata": {},
   "outputs": [],
   "source": [
    "# Apple's Core Financial statement columns \n",
    "core_is_cols = [\n",
    "    \"Total Revenue\",\n",
    "    \"Cost Of Revenue\",\n",
    "    \"Gross Profit\",\n",
    "    \"Operating Income\",\n",
    "    \"Net Income\"\n",
    "]"
   ]
  },
  {
   "cell_type": "code",
   "execution_count": 51,
   "id": "1c6e1e07",
   "metadata": {},
   "outputs": [],
   "source": [
    "# Core Balance sheet columns\n",
    "core_bs_cols = [\n",
    "    \"Total Assets\",\n",
    "    \"Total Liabilities Net Minority Interest\",\n",
    "    \"Current Assets\",\n",
    "    \"Current Liabilities\",\n",
    "    \"Cash And Cash Equivalents\",\n",
    "    \"Inventory\",\n",
    "    \"Stockholders Equity\"\n",
    "]"
   ]
  },
  {
   "cell_type": "code",
   "execution_count": 52,
   "id": "14c0402d",
   "metadata": {},
   "outputs": [],
   "source": [
    "# Core Cash flow columns\n",
    "core_cf_cols = [\n",
    "    \"Operating Cash Flow\",\n",
    "    \"Capital Expenditure\"\n",
    "]"
   ]
  },
  {
   "cell_type": "code",
   "execution_count": 53,
   "id": "c39ebd54",
   "metadata": {},
   "outputs": [],
   "source": [
    "# Filtering DF\n",
    "apple_is = apple_is[core_is_cols]\n",
    "msft_is = msft_is[core_is_cols]\n",
    "\n",
    "apple_bs = apple_bs[core_bs_cols]\n",
    "msft_bs = msft_bs[core_bs_cols]\n",
    "\n",
    "apple_cf = apple_cf[core_cf_cols]\n",
    "msft_cf = msft_cf[core_cf_cols]"
   ]
  },
  {
   "cell_type": "code",
   "execution_count": 54,
   "id": "fac007ee",
   "metadata": {},
   "outputs": [],
   "source": [
    "# Clean & Rename Columns\n",
    "rename_map = {\n",
    "    \"Total Revenue\": \"Revenue\",\n",
    "    \"Cost Of Revenue\": \"COGS\",\n",
    "    \"Gross Profit\": \"Gross_Profit\",\n",
    "    \"Operating Income\": \"Operating_Income\",\n",
    "    \"Net Income\": \"Net_Income\",\n",
    "    \"Total Assets\": \"Total_Assets\",\n",
    "    \"Total Liabilities Net Minority Interest\": \"Total_Liabilities\",\n",
    "    \"Stockholders Equity\": \"Total_Equity\",\n",
    "    \"Operating Cash Flow\": \"Operating_Cash_Flow\",\n",
    "    \"Capital Expenditure\": \"CapEx\"\n",
    "}"
   ]
  },
  {
   "cell_type": "code",
   "execution_count": 55,
   "id": "c6c7067f",
   "metadata": {},
   "outputs": [],
   "source": [
    "apple_is.rename(columns = rename_map, inplace = True)\n",
    "msft_is.rename(columns = rename_map, inplace = True)\n",
    "\n",
    "apple_bs.rename(columns = rename_map, inplace = True)\n",
    "msft_bs.rename(columns = rename_map, inplace = True)\n",
    "\n",
    "apple_cf.rename(columns = rename_map, inplace = True)\n",
    "msft_cf.rename(columns = rename_map, inplace = True)\n"
   ]
  },
  {
   "cell_type": "code",
   "execution_count": 59,
   "id": "40fe6105",
   "metadata": {},
   "outputs": [],
   "source": [
    "import pandas as pd\n",
    "\n",
    "apple_combined = pd.concat([apple_is, apple_bs, apple_cf], axis = 1)\n",
    "msft_combined = pd.concat([msft_is, msft_bs, msft_cf], axis = 1)\n"
   ]
  },
  {
   "cell_type": "code",
   "execution_count": 64,
   "id": "114d4ef4",
   "metadata": {},
   "outputs": [],
   "source": [
    "apple_combined = apple_combined.apply(pd.to_numeric, errors = 'coerce')\n",
    "msft_combined = msft_combined.apply(pd.to_numeric, errors = 'coerce')\n",
    "\n",
    "apple_combined = apple_combined.sort_index()\n",
    "msft_combined = msft_combined.sort_index()"
   ]
  },
  {
   "cell_type": "code",
   "execution_count": 65,
   "id": "a500275a",
   "metadata": {},
   "outputs": [],
   "source": [
    "apple_combined[\"Company\"] = \"Apple\"\n",
    "msft_combined[\"Company\"] = \"Microsoft\"\n",
    "\n",
    "combined = pd.concat([apple_combined, msft_combined])\n",
    "combined.reset_index(inplace=True)\n",
    "combined.rename(columns={'index': 'Fiscal_Year'}, inplace=True)"
   ]
  }
 ],
 "metadata": {
  "kernelspec": {
   "display_name": "base",
   "language": "python",
   "name": "python3"
  },
  "language_info": {
   "codemirror_mode": {
    "name": "ipython",
    "version": 3
   },
   "file_extension": ".py",
   "mimetype": "text/x-python",
   "name": "python",
   "nbconvert_exporter": "python",
   "pygments_lexer": "ipython3",
   "version": "3.13.5"
  }
 },
 "nbformat": 4,
 "nbformat_minor": 5
}
