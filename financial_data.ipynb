{
 "cells": [
  {
   "cell_type": "code",
   "execution_count": 1,
   "id": "292163b9",
   "metadata": {},
   "outputs": [],
   "source": [
    "import yfinance as yf\n",
    "\n",
    "apple = yf.Ticker(\"AAPL\")\n",
    "msft = yf.Ticker(\"MSFT\")"
   ]
  },
  {
   "cell_type": "code",
   "execution_count": 2,
   "id": "2a77c359",
   "metadata": {},
   "outputs": [],
   "source": [
    "# Income statements\n",
    "apple_financials = apple.financials\n",
    "msft_financials = msft.financials"
   ]
  },
  {
   "cell_type": "code",
   "execution_count": 3,
   "id": "bd1cdb63",
   "metadata": {},
   "outputs": [],
   "source": [
    "# Balance sheets\n",
    "apple_balance = apple.balance_sheet\n",
    "msft_balance = msft.balance_sheet"
   ]
  },
  {
   "cell_type": "code",
   "execution_count": 4,
   "id": "bd59425f",
   "metadata": {},
   "outputs": [],
   "source": [
    "# Cash flow\n",
    "apple_cashflow = apple.cashflow\n",
    "msft_cashflow = msft.cashflow\n"
   ]
  },
  {
   "cell_type": "code",
   "execution_count": 5,
   "id": "f965a2ea",
   "metadata": {},
   "outputs": [],
   "source": [
    "apple_is = apple_financials.T\n",
    "msft_is = msft_financials.T\n",
    "\n",
    "apple_bs = apple_balance.T\n",
    "msft_bs = msft_balance.T\n",
    "\n",
    "apple_cf = apple_cashflow.T\n",
    "msft_cf= msft_cashflow.T"
   ]
  },
  {
   "cell_type": "code",
   "execution_count": 6,
   "id": "0d962c6c",
   "metadata": {},
   "outputs": [],
   "source": [
    "# Apple's Core Financial statement columns \n",
    "core_is_cols = [\n",
    "    \"Total Revenue\",\n",
    "    \"Cost Of Revenue\",\n",
    "    \"Gross Profit\",\n",
    "    \"Operating Income\",\n",
    "    \"Net Income\"\n",
    "]"
   ]
  },
  {
   "cell_type": "code",
   "execution_count": 7,
   "id": "1c6e1e07",
   "metadata": {},
   "outputs": [],
   "source": [
    "# Core Balance sheet columns\n",
    "core_bs_cols = [\n",
    "    \"Total Assets\",\n",
    "    \"Total Liabilities Net Minority Interest\",\n",
    "    \"Current Assets\",\n",
    "    \"Current Liabilities\",\n",
    "    \"Cash And Cash Equivalents\",\n",
    "    \"Inventory\",\n",
    "    \"Stockholders Equity\"\n",
    "]"
   ]
  },
  {
   "cell_type": "code",
   "execution_count": 8,
   "id": "14c0402d",
   "metadata": {},
   "outputs": [],
   "source": [
    "# Core Cash flow columns\n",
    "core_cf_cols = [\n",
    "    \"Operating Cash Flow\",\n",
    "    \"Capital Expenditure\"\n",
    "]"
   ]
  },
  {
   "cell_type": "code",
   "execution_count": 9,
   "id": "c39ebd54",
   "metadata": {},
   "outputs": [],
   "source": [
    "# Filtering DF\n",
    "apple_is = apple_is[core_is_cols]\n",
    "msft_is = msft_is[core_is_cols]\n",
    "\n",
    "apple_bs = apple_bs[core_bs_cols]\n",
    "msft_bs = msft_bs[core_bs_cols]\n",
    "\n",
    "apple_cf = apple_cf[core_cf_cols]\n",
    "msft_cf = msft_cf[core_cf_cols]"
   ]
  },
  {
   "cell_type": "code",
   "execution_count": 10,
   "id": "fac007ee",
   "metadata": {},
   "outputs": [],
   "source": [
    "# Clean & Rename Columns\n",
    "rename_map = {\n",
    "    \"Total Revenue\": \"Revenue\",\n",
    "    \"Cost Of Revenue\": \"COGS\",\n",
    "    \"Gross Profit\": \"Gross_Profit\",\n",
    "    \"Operating Income\": \"Operating_Income\",\n",
    "    \"Net Income\": \"Net_Income\",\n",
    "    \"Total Assets\": \"Total_Assets\",\n",
    "    \"Total Liabilities Net Minority Interest\": \"Total_Liabilities\",\n",
    "    \"Stockholders Equity\": \"Total_Equity\",\n",
    "    \"Operating Cash Flow\": \"Operating_Cash_Flow\",\n",
    "    \"Capital Expenditure\": \"CapEx\"\n",
    "}"
   ]
  },
  {
   "cell_type": "code",
   "execution_count": 11,
   "id": "c6c7067f",
   "metadata": {},
   "outputs": [],
   "source": [
    "apple_is.rename(columns = rename_map, inplace = True)\n",
    "msft_is.rename(columns = rename_map, inplace = True)\n",
    "\n",
    "apple_bs.rename(columns = rename_map, inplace = True)\n",
    "msft_bs.rename(columns = rename_map, inplace = True)\n",
    "\n",
    "apple_cf.rename(columns = rename_map, inplace = True)\n",
    "msft_cf.rename(columns = rename_map, inplace = True)\n"
   ]
  },
  {
   "cell_type": "code",
   "execution_count": 12,
   "id": "40fe6105",
   "metadata": {},
   "outputs": [],
   "source": [
    "import pandas as pd\n",
    "\n",
    "apple_combined = pd.concat([apple_is, apple_bs, apple_cf], axis = 1)\n",
    "msft_combined = pd.concat([msft_is, msft_bs, msft_cf], axis = 1)\n"
   ]
  },
  {
   "cell_type": "code",
   "execution_count": 13,
   "id": "114d4ef4",
   "metadata": {},
   "outputs": [],
   "source": [
    "apple_combined = apple_combined.apply(pd.to_numeric, errors = 'coerce')\n",
    "msft_combined = msft_combined.apply(pd.to_numeric, errors = 'coerce')\n",
    "\n",
    "apple_combined = apple_combined.sort_index()\n",
    "msft_combined = msft_combined.sort_index()\n",
    "msft_combined = msft_combined.drop(\"2025-06-30 00:00:00\", errors=\"ignore\")"
   ]
  },
  {
   "cell_type": "code",
   "execution_count": 14,
   "id": "a500275a",
   "metadata": {},
   "outputs": [],
   "source": [
    "# Combined data of 2021-2024 for Apple & Microsoft\n",
    "apple_combined[\"Company\"] = \"Apple\"\n",
    "msft_combined[\"Company\"] = \"Microsoft\"\n",
    "\n",
    "combined = pd.concat([apple_combined, msft_combined])\n",
    "combined.reset_index(inplace=True)\n",
    "combined.rename(columns={'index': 'Fiscal_Year'}, inplace=True)"
   ]
  },
  {
   "cell_type": "code",
   "execution_count": null,
   "id": "7281bd90",
   "metadata": {},
   "outputs": [],
   "source": [
    "# Manual Data from SEC EDGAR for KPI Calculations\n",
    "# Note: For Microsoft's 2017 & previous 10-Ks, it includes older accounting standards reflecting different numbers than current standards. \n",
    "#       eg. In the 2017 Microsoft 10-K, lists $89.95B as Total Revenue, whereas newer 10-K lists $96.57B.\n",
    "#       Numbers for 2017 will use latest updated numbers, while older 10-Ks will be used as listed.\n",
    "msft_manual = pd.DataFrame({\n",
    "    \"Fiscal_Year\": [2021, 2020, 2019, 2018, 2017, 2016, 2015, 2014],\n",
    "    \"Revenue\": [168088000000, 143015000000, 125843000000, 110360000000, 96571000000, 91154000000, 93580000000, 86833000000],\n",
    "    \"Gross_Profit\": [115856000000, 96937000000, 82933000000, 72007000000, 62310000000, 58374000000, 60542000000, 59755000000],\n",
    "    \"Operating_Income\": [69916000000, 52959000000, 42959000000, 35058000000, 29025000000, 26078000000, 18161000000, 27759000000],\n",
    "    \"Net_Income\": [61271000000, 44281000000, 39240000000, 16571000000, 25489000000, 20539000000, 12193000000, 22074000000],\n",
    "    \"Total_Assets\": [333779000000, 301311000000, 286556000000, 258848000000, 250312000000, 193694000000, 174472000000, 172384000000],\n",
    "    \"Total_Liabilities\": [191791000000, 183007000000, 184226000000, 176130000000, 162601000000, 121697000000, 94389000000, 82600000000],\n",
    "    \"Total_Equity\": [141988000000, 118304000000, 102330000000, 82718000000, 87711000000, 71997000000, 80073000000, 89784000000],\n",
    "    \"Operating_Cash_Flow\": [76740000000, 60675000000, 52185000000, 43884000000, 39507000000, 33325000000, 29668000000, 32502000000],\n",
    "    \"CapEx\": [-20622000000, -15441000000, -13925000000, -11632000000, -8129000000, -8343000000, -5944000000, -5485000000],\n",
    "    \"Company\": \"Microsoft\"\n",
    "})\n",
    "\n",
    "apple_manual = pd.DataFrame({\n",
    "    \"Fiscal_Year\": [2020, 2019, 2018, ],\n",
    "    \"Revenue\": [274515000000, 260174000000, 265595000000, ],\n",
    "    \"Gross_Profit\": [104956000000, 98392000000, 101839000000, ],\n",
    "    \"Operating_Income\": [66288000000, 63930000000, 70898000000, ],\n",
    "    \"Net_Income\": [57411000000, 55256000000, 59531000000, ],\n",
    "    \"Total_Assets\": [323888000000, 338516000000, xx18, ],\n",
    "    \"Total_Liabilities\": [258549000000, 248028000000, xx18, ],\n",
    "    \"Total_Equity\": [65339000000, 90488000000, xx18],\n",
    "    \"Operating_Cash_Flow\": [],\n",
    "    \"CapEx\": [],\n",
    "    \"Company\": [],\n",
    "})"
   ]
  }
 ],
 "metadata": {
  "kernelspec": {
   "display_name": "base",
   "language": "python",
   "name": "python3"
  },
  "language_info": {
   "codemirror_mode": {
    "name": "ipython",
    "version": 3
   },
   "file_extension": ".py",
   "mimetype": "text/x-python",
   "name": "python",
   "nbconvert_exporter": "python",
   "pygments_lexer": "ipython3",
   "version": "3.13.5"
  }
 },
 "nbformat": 4,
 "nbformat_minor": 5
}
